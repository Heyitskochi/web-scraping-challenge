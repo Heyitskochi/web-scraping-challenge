{
 "cells": [
  {
   "cell_type": "code",
   "execution_count": 2,
   "metadata": {},
   "outputs": [],
   "source": [
    "from bs4 import BeautifulSoup as bs\n",
    "import requests\n",
    "import pandas as pd\n",
    "from webdriver_manager.chrome import ChromeDriverManager\n",
    "from splinter import Browser"
   ]
  },
  {
   "cell_type": "code",
   "execution_count": 3,
   "metadata": {},
   "outputs": [
    {
     "name": "stderr",
     "output_type": "stream",
     "text": [
      "\n",
      "\n",
      "====== WebDriver manager ======\n",
      "Current google-chrome version is 91.0.4472\n",
      "Get LATEST driver version for 91.0.4472\n",
      "Driver [C:\\Users\\ckkoc\\.wdm\\drivers\\chromedriver\\win32\\91.0.4472.101\\chromedriver.exe] found in cache\n"
     ]
    }
   ],
   "source": [
    "executable_path = {'executable_path': ChromeDriverManager().install()}\n",
    "browser = Browser('chrome', **executable_path, headless=False)"
   ]
  },
  {
   "cell_type": "code",
   "execution_count": 4,
   "metadata": {},
   "outputs": [],
   "source": [
    "#NASA Mars News"
   ]
  },
  {
   "cell_type": "code",
   "execution_count": 5,
   "metadata": {},
   "outputs": [],
   "source": [
    "url = \"https://redplanetscience.com/\"\n",
    "#url = 'http://quotes.toscrape.com/'\n",
    "browser.visit(url)"
   ]
  },
  {
   "cell_type": "code",
   "execution_count": 7,
   "metadata": {},
   "outputs": [
    {
     "name": "stdout",
     "output_type": "stream",
     "text": [
      "page: 1 -------------\n",
      "NASA's Mars 2020 Rover Goes Coast-to-Coast to Prep for Launch\n",
      "page: 1 -------------\n",
      "NASA Wins 4 Webbys, 4 People's Voice Awards\n",
      "page: 1 -------------\n",
      "NASA's InSight 'Hears' Peculiar Sounds on Mars\n",
      "page: 1 -------------\n",
      "Robotic Toolkit Added to NASA's Mars 2020 Rover\n",
      "page: 1 -------------\n",
      "All About the Laser (and Microphone) Atop Mars 2020, NASA's Next Rover\n",
      "page: 1 -------------\n",
      "NASA, ULA Launch Mars 2020 Perseverance Rover Mission to Red Planet\n",
      "page: 1 -------------\n",
      "NASA's Mars Helicopter Attached to Mars 2020 Rover \n",
      "page: 1 -------------\n",
      "Three New Views of Mars' Moon Phobos\n",
      "page: 1 -------------\n",
      "NASA Engineers Checking InSight's Weather Sensors\n",
      "page: 1 -------------\n",
      "NASA Invites Students to Name Mars 2020 Rover\n",
      "page: 1 -------------\n",
      "Mars InSight Lander to Push on Top of the 'Mole'\n",
      "page: 1 -------------\n",
      "NASA's Curiosity Rover Finds an Ancient Oasis on Mars\n",
      "page: 1 -------------\n",
      "NASA's Perseverance Mars Rover Gets Balanced\n",
      "page: 1 -------------\n",
      "A Martian Roundtrip: NASA's Perseverance Rover Sample Tubes\n",
      "page: 1 -------------\n",
      "NASA Prepares for Moon and Mars With New Addition to Its Deep Space Network\n",
      "page: 2 -------------\n",
      "NASA's Mars 2020 Rover Goes Coast-to-Coast to Prep for Launch\n",
      "page: 2 -------------\n",
      "NASA Wins 4 Webbys, 4 People's Voice Awards\n",
      "page: 2 -------------\n",
      "NASA's InSight 'Hears' Peculiar Sounds on Mars\n",
      "page: 2 -------------\n",
      "Robotic Toolkit Added to NASA's Mars 2020 Rover\n",
      "page: 2 -------------\n",
      "All About the Laser (and Microphone) Atop Mars 2020, NASA's Next Rover\n",
      "page: 2 -------------\n",
      "NASA, ULA Launch Mars 2020 Perseverance Rover Mission to Red Planet\n",
      "page: 2 -------------\n",
      "NASA's Mars Helicopter Attached to Mars 2020 Rover \n",
      "page: 2 -------------\n",
      "Three New Views of Mars' Moon Phobos\n",
      "page: 2 -------------\n",
      "NASA Engineers Checking InSight's Weather Sensors\n",
      "page: 2 -------------\n",
      "NASA Invites Students to Name Mars 2020 Rover\n",
      "page: 2 -------------\n",
      "Mars InSight Lander to Push on Top of the 'Mole'\n",
      "page: 2 -------------\n",
      "NASA's Curiosity Rover Finds an Ancient Oasis on Mars\n",
      "page: 2 -------------\n",
      "NASA's Perseverance Mars Rover Gets Balanced\n",
      "page: 2 -------------\n",
      "A Martian Roundtrip: NASA's Perseverance Rover Sample Tubes\n",
      "page: 2 -------------\n",
      "NASA Prepares for Moon and Mars With New Addition to Its Deep Space Network\n"
     ]
    }
   ],
   "source": [
    " for x in range(1, 3):\n",
    "\n",
    "    html = browser.html\n",
    "    soup = bs(html, 'html.parser')\n",
    "\n",
    "    quotes = soup.find_all('div', class_='content_title')\n",
    "\n",
    "    for quote in quotes:\n",
    "        print('page:', x, '-------------')\n",
    "        print(quote.text)\n",
    "    #browser.links.find_by_partial_text('Next').click()"
   ]
  },
  {
   "cell_type": "code",
   "execution_count": null,
   "metadata": {},
   "outputs": [],
   "source": []
  },
  {
   "cell_type": "code",
   "execution_count": null,
   "metadata": {},
   "outputs": [],
   "source": []
  },
  {
   "cell_type": "code",
   "execution_count": null,
   "metadata": {},
   "outputs": [],
   "source": []
  },
  {
   "cell_type": "code",
   "execution_count": null,
   "metadata": {},
   "outputs": [],
   "source": []
  },
  {
   "cell_type": "code",
   "execution_count": null,
   "metadata": {},
   "outputs": [],
   "source": [
    "#JPL Mars Space Images - Featured Image"
   ]
  },
  {
   "cell_type": "code",
   "execution_count": null,
   "metadata": {},
   "outputs": [],
   "source": []
  },
  {
   "cell_type": "code",
   "execution_count": null,
   "metadata": {},
   "outputs": [],
   "source": [
    "#Mars Facts"
   ]
  },
  {
   "cell_type": "code",
   "execution_count": null,
   "metadata": {},
   "outputs": [],
   "source": []
  },
  {
   "cell_type": "code",
   "execution_count": null,
   "metadata": {},
   "outputs": [],
   "source": [
    "# Mars Hemispheres"
   ]
  }
 ],
 "metadata": {
  "kernelspec": {
   "display_name": "Python 3",
   "language": "python",
   "name": "python3"
  },
  "language_info": {
   "codemirror_mode": {
    "name": "ipython",
    "version": 3
   },
   "file_extension": ".py",
   "mimetype": "text/x-python",
   "name": "python",
   "nbconvert_exporter": "python",
   "pygments_lexer": "ipython3",
   "version": "3.8.5"
  }
 },
 "nbformat": 4,
 "nbformat_minor": 4
}
